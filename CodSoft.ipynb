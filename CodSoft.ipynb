{
 "cells": [
  {
   "cell_type": "code",
   "execution_count": null,
   "metadata": {},
   "outputs": [],
   "source": [
    "import pickle\n",
    "import pandas as pd\n",
    "import numpy as np\n",
    "import matplotlib.pyplot as plt\n",
    "import seaborn as sns\n",
    "from sklearn.model_selection import train_test_split\n",
    "from sklearn.pipeline import Pipeline\n",
    "from sklearn.preprocessing import OneHotEncoder, StandardScaler, MinMaxScaler\n",
    "from sklearn.compose import ColumnTransformer\n",
    "from sklearn.linear_model import LogisticRegression\n",
    "from sklearn.metrics import classification_report, confusion_matrix"
   ]
  },
  {
   "cell_type": "code",
   "execution_count": null,
   "metadata": {},
   "outputs": [],
   "source": [
    "train_data = pd.read_csv('train.csv')"
   ]
  },
  {
   "cell_type": "code",
   "execution_count": null,
   "metadata": {},
   "outputs": [],
   "source": [
    "train_data.head()"
   ]
  },
  {
   "cell_type": "code",
   "execution_count": null,
   "metadata": {},
   "outputs": [],
   "source": [
    "train_data.shape"
   ]
  },
  {
   "cell_type": "code",
   "execution_count": null,
   "metadata": {},
   "outputs": [],
   "source": [
    "train_data.dtypes"
   ]
  },
  {
   "cell_type": "code",
   "execution_count": null,
   "metadata": {},
   "outputs": [],
   "source": [
    "100*train_data.isna().mean()"
   ]
  },
  {
   "cell_type": "code",
   "execution_count": null,
   "metadata": {},
   "outputs": [],
   "source": [
    "survival_count = train_data[\"Survived\"].value_counts()\n",
    "survival_rate = 100*survival_count/train_data.shape[0]\n",
    "survival_data = pd.concat([survival_count, survival_rate], axis=1).reset_index()\n",
    "survival_data.columns = ['Survived', 'Count', 'Percentage']\n",
    "survival_data"
   ]
  },
  {
   "cell_type": "code",
   "execution_count": null,
   "metadata": {},
   "outputs": [],
   "source": [
    "plt.figure(figsize=(5,3))\n",
    "sns.barplot(survival_data, x=['Not-Survived', 'Survived'], y='Percentage',\n",
    "            width=0.35)\n",
    "plt.ylabel('Percentage Survived')\n",
    "plt.xlabel('Survival Status')\n",
    "plt.title('Percentage Survival of the Titanic Passengers')"
   ]
  },
  {
   "cell_type": "code",
   "execution_count": null,
   "metadata": {},
   "outputs": [],
   "source": [
    "def survival_acc_to_grp(df, colname):\n",
    "    plt.figure(figsize=(5,3))\n",
    "    survival_by_pclass = df[['Survived', colname]].value_counts().reset_index()\n",
    "    sns.barplot(survival_by_pclass, x=colname, y='count'. hue='Survived')\n",
    "    plt.ylabel('Number of Survived')\n",
    "    plt.title(f'Survival According to {colname}')"
   ]
  },
  {
   "cell_type": "code",
   "execution_count": null,
   "metadata": {},
   "outputs": [],
   "source": [
    "survival_acc_to_grp(df, 'Pclass')"
   ]
  },
  {
   "cell_type": "code",
   "execution_count": null,
   "metadata": {},
   "outputs": [],
   "source": [
    "survival_acc_to_grp(df, 'Sex')\n"
   ]
  },
  {
   "cell_type": "code",
   "execution_count": null,
   "metadata": {},
   "outputs": [],
   "source": [
    "survival_acc_to_grp(df, 'Embarked')"
   ]
  },
  {
   "cell_type": "code",
   "execution_count": null,
   "metadata": {},
   "outputs": [],
   "source": [
    "def vars_acc_to_surv(df, colname):\n",
    "    plt.figure(figsize=(5,3))\n",
    "    sns.kdeplot(df, x=colname, hue='Survived')\n",
    "    plt.title(f'{colname}distribution according to the survival')"
   ]
  },
  {
   "cell_type": "code",
   "execution_count": null,
   "metadata": {},
   "outputs": [],
   "source": [
    "vars_acc_to_surv(df, 'Age')"
   ]
  },
  {
   "cell_type": "code",
   "execution_count": null,
   "metadata": {},
   "outputs": [],
   "source": [
    "vars_acc_to_surv(df, 'Fare')"
   ]
  },
  {
   "cell_type": "code",
   "execution_count": null,
   "metadata": {},
   "outputs": [],
   "source": [
    "def count_acc_to_surv(df, colname):\n",
    "    plt.figure(figsize=(5,3))\n",
    "    df1 = df.groupby(['SibSp', 'Survived']).count()['PassengerId'].reset_index()\n",
    "    sns.barplot(df1, x='SibSp', y='PassengerId', hue='Survived')\n",
    "    plt.title(f'{colname}according to survival')\n",
    "    plt.xlabel(f'{colname}')\n",
    "    plt.ylabel('count')\n",
    "    "
   ]
  },
  {
   "cell_type": "code",
   "execution_count": null,
   "metadata": {},
   "outputs": [],
   "source": [
    "count_acc_to_surv(df, 'SibSp')\n"
   ]
  },
  {
   "cell_type": "code",
   "execution_count": null,
   "metadata": {},
   "outputs": [],
   "source": [
    "count_acc_to_surv(df, 'Parch')"
   ]
  },
  {
   "cell_type": "code",
   "execution_count": null,
   "metadata": {},
   "outputs": [],
   "source": [
    "cont_vars = pd.melt(df, value_vars=['Age', 'Fare', 'SibSp', 'Parch'])\n",
    "\n",
    "plt.figure(figsize=(5,3))\n",
    "sns.boxenplot(cont_vars, x='variable', y='value')\n",
    "plt.xlabel('Continuous Variables')\n",
    "plt.ylabel('Values')\n",
    "plt.title('Comparison of the continuous variables')\n"
   ]
  },
  {
   "cell_type": "code",
   "execution_count": null,
   "metadata": {},
   "outputs": [],
   "source": [
    "train_data = train_data.drop(['PassengerId','Name', 'Ticket', 'Cabin'], axis=1)\n",
    "train_data.head()"
   ]
  },
  {
   "cell_type": "code",
   "execution_count": null,
   "metadata": {},
   "outputs": [],
   "source": [
    "train_data = train_data.dropna(subset= 'Fare')"
   ]
  },
  {
   "cell_type": "code",
   "execution_count": null,
   "metadata": {},
   "outputs": [],
   "source": [
    "train_data['Age'] = train_data['Age'].fillna(train_data['Age'].median())"
   ]
  },
  {
   "cell_type": "code",
   "execution_count": null,
   "metadata": {},
   "outputs": [],
   "source": [
    "train_data.isnull().sum()"
   ]
  },
  {
   "cell_type": "code",
   "execution_count": null,
   "metadata": {},
   "outputs": [],
   "source": [
    "train_data_survived = train_data[train_data['Survived']==1]\n",
    "train_data_not_survived = train_data[train_data['Survived']==0]\n",
    "\n",
    "train_data_survived_resampled = train_data_survived.sample(n=train_data_not_survived.shape[0], replace=True, random_state=101)\n",
    "train_data_balanced = pd.concat([train_data_not_survived, train_data_survived_resampled]).sample(frac=1, random_state=26)\n",
    "train_data_balanced"
   ]
  },
  {
   "cell_type": "code",
   "execution_count": null,
   "metadata": {},
   "outputs": [],
   "source": [
    "train_data_balanced['Survived'].value_counts()"
   ]
  },
  {
   "cell_type": "code",
   "execution_count": null,
   "metadata": {},
   "outputs": [],
   "source": [
    "x = train_data_balanced.drop(['Survived'], axis=1)\n",
    "y = train_data_balanced['Survived']"
   ]
  },
  {
   "cell_type": "code",
   "execution_count": null,
   "metadata": {},
   "outputs": [],
   "source": [
    "X_train, X_test, y_train, y_test = train_test_split(x,y, test_size=0.2, random_state=1055)\n",
    "\n",
    "print(f'''\n",
    "      X_train: {X_train.shape}\n",
    "      X_test: {X_test.shape}\n",
    "      y_train: {y_train.shape}\n",
    "      y_test: {y_test.shape}''')"
   ]
  },
  {
   "cell_type": "code",
   "execution_count": null,
   "metadata": {},
   "outputs": [],
   "source": [
    "cont_cols = ['Age', 'Fare']\n",
    "disc_cols = ['SibSp', 'Parch']\n",
    "cat_cols = ['Pclass', 'Sex', 'Embarked']\n",
    "\n",
    "continuous_transformer = Pipeline(steps=[\n",
    "    ('scaler', StandardScaler())])\n",
    "\n",
    "discrete_transformer = Pipeline(steps=[\n",
    "    ('scaler', MinMaxScaler())])\n",
    "\n",
    "categorical_transformer = Pipeline(steps=[\n",
    "    ('onehot', OneHotEncoder(drops='first'))])\n",
    "\n",
    "preprocessor = ColumnTransformer(\n",
    "    transformers=[\n",
    "        ('cont', continuous_transformer, cont_cols),\n",
    "        ('disc', discrete_transformer, disc_cols)\n",
    "        ('cat', categorical_transformer, cat_cols)])\n",
    "\n",
    "model = Pipeline(steps=[('preprocessor', preprocessor),\n",
    "                        ('classifier', LogisticRegression())])\n",
    "model.fit(X_train, y_train)"
   ]
  },
  {
   "cell_type": "code",
   "execution_count": null,
   "metadata": {},
   "outputs": [],
   "source": [
    "y_pred = model.predict(X_test)\n",
    "y_pred"
   ]
  },
  {
   "cell_type": "code",
   "execution_count": null,
   "metadata": {},
   "outputs": [],
   "source": [
    "cr = classification_report(y_test, y_pred)\n",
    "print(cr)"
   ]
  },
  {
   "cell_type": "code",
   "execution_count": null,
   "metadata": {},
   "outputs": [],
   "source": [
    "cm = confusion_matrix(y_test, y_pred)\n",
    "plt.figure(figsize=(5,3))\n",
    "sns.heatmap(cm, annot=True)\n",
    "plt.title('Confusion matrix of the  classificataion')\n",
    "plt.xlabel('True Value')\n",
    "plt.ylabel('Predicted Value')"
   ]
  },
  {
   "cell_type": "code",
   "execution_count": null,
   "metadata": {},
   "outputs": [],
   "source": [
    "with open('./model_logistic.pkl', 'wb') as fp:\n",
    "    pickle.dump(model, fp)"
   ]
  }
 ],
 "metadata": {
  "kernelspec": {
   "display_name": "Python 3",
   "language": "python",
   "name": "python3"
  },
  "language_info": {
   "codemirror_mode": {
    "name": "ipython",
    "version": 3
   },
   "file_extension": ".py",
   "mimetype": "text/x-python",
   "name": "python",
   "nbconvert_exporter": "python",
   "pygments_lexer": "ipython3",
   "version": "3.11.8"
  }
 },
 "nbformat": 4,
 "nbformat_minor": 2
}
